{
 "cells": [
  {
   "cell_type": "markdown",
   "metadata": {},
   "source": [
    "# Fake News Detection Using BERT and Deep Learning Approaches\n",
    "**Author:** Deniz Can Calkin  \n",
    "**Date:** June 29, 2025  \n",
    "**Course:** SS25 - Machine Learning A"
   ]
  },
  {
   "cell_type": "code",
   "execution_count": null,
   "metadata": {},
   "outputs": [],
   "source": [
    "# Cell 1: Import Required Libraries\n",
    "import pandas as pd\n",
    "import numpy as np\n",
    "import torch\n",
    "from torch.utils.data import Dataset, DataLoader\n",
    "from transformers import BertTokenizer, BertForSequenceClassification\n",
    "from torch.optim import AdamW\n",
    "from sklearn.model_selection import train_test_split\n",
    "from sklearn.metrics import accuracy_score, f1_score, confusion_matrix, classification_report\n",
    "from sklearn.naive_bayes import MultinomialNB\n",
    "from sklearn.linear_model import LogisticRegression\n",
    "from sklearn.feature_extraction.text import TfidfVectorizer\n",
    "import matplotlib.pyplot as plt\n",
    "import seaborn as sns\n",
    "from tqdm import tqdm\n",
    "import warnings\n",
    "warnings.filterwarnings('ignore')\n",
    "\n",
    "device = torch.device(\"cpu\")\n",
    "print(f\"Using device: {device}\")"
   ]
  },
  {
   "cell_type": "code",
   "execution_count": 2,
   "metadata": {},
   "outputs": [
    {
     "name": "stdout",
     "output_type": "stream",
     "text": [
      "Total samples: 44898\n",
      "Real news: 21417\n",
      "Fake news: 23481\n",
      "\n",
      "Dataset shape: (44898, 5)\n",
      "\n",
      "Columns: ['title', 'text', 'subject', 'date', 'label']\n"
     ]
    }
   ],
   "source": [
    "# Cell 2: Load and Explore Dataset\n",
    "# Load the datasets\n",
    "true_df = pd.read_csv('True.csv')\n",
    "fake_df = pd.read_csv('Fake.csv')\n",
    "\n",
    "# Add labels\n",
    "true_df['label'] = 1  # 1 for real news\n",
    "fake_df['label'] = 0  # 0 for fake news\n",
    "\n",
    "# Combine datasets\n",
    "df = pd.concat([true_df, fake_df], ignore_index=True)\n",
    "\n",
    "# Display basic information\n",
    "print(f\"Total samples: {len(df)}\")\n",
    "print(f\"Real news: {len(true_df)}\")\n",
    "print(f\"Fake news: {len(fake_df)}\")\n",
    "print(\"\\nDataset shape:\", df.shape)\n",
    "print(\"\\nColumns:\", df.columns.tolist())"
   ]
  },
  {
   "cell_type": "code",
   "execution_count": 3,
   "metadata": {},
   "outputs": [
    {
     "name": "stdout",
     "output_type": "stream",
     "text": [
      "Sample Real News:\n",
      "California AG pledges to defend birth control insurance coverage SAN FRANCISCO (Reuters) - California Attorney General Xavier Becerra said on Friday he was “prepared to take whatever action it takes” to defend the Obamacare mandate that health insurers provide birth control, now that the Trump administration has moved to circumvent it. The administration’s new contraception exemptions “are another example of the Trump administration trampling on people’s rights, but in this case only women,” Bec\n",
      "\n",
      "Sample Fake News:\n",
      " BREAKING: GOP Chairman Grassley Has Had Enough, DEMANDS Trump Jr. Testimony Donald Trump s White House is in chaos, and they are trying to cover it up. Their Russia problems are mounting by the hour, and they refuse to acknowledge that there are problems surrounding all of this. To them, it s  fake news,  or a  hoax.  However, the facts bear things out differently, and it seems that there are now cracks in the Congressional public leadership.Chuck Grassley (R-Iowa), who heads the Senate Judicia\n"
     ]
    }
   ],
   "source": [
    "# Cell 3: Data Preprocessing\n",
    "# Combine title and text as mentioned in proposal\n",
    "df['combined_text'] = df['title'] + \" \" + df['text']\n",
    "\n",
    "# Remove any null values\n",
    "df = df.dropna(subset=['combined_text'])\n",
    "\n",
    "# Shuffle the dataset\n",
    "df = df.sample(frac=1, random_state=42).reset_index(drop=True)\n",
    "\n",
    "# Display sample data\n",
    "print(\"Sample Real News:\")\n",
    "print(df[df['label']==1]['combined_text'].iloc[0][:500])\n",
    "print(\"\\nSample Fake News:\")\n",
    "print(df[df['label']==0]['combined_text'].iloc[0][:500])"
   ]
  },
  {
   "cell_type": "code",
   "execution_count": null,
   "metadata": {},
   "outputs": [
    {
     "name": "stdout",
     "output_type": "stream",
     "text": [
      "Training samples: 7004\n",
      "Validation samples: 1496\n",
      "Test samples: 1500\n"
     ]
    }
   ],
   "source": [
    "# Cell 4: Create Train/Validation/Test Split\n",
    "# Split data\n",
    "X = df['combined_text'].values[:10000]\n",
    "y = df['label'].values[:10000]\n",
    "\n",
    "# 70% train, 15% validation, 15% test\n",
    "X_temp, X_test, y_temp, y_test = train_test_split(X, y, test_size=0.15, random_state=42, stratify=y)\n",
    "X_train, X_val, y_train, y_val = train_test_split(X_temp, y_temp, test_size=0.176, random_state=42, stratify=y_temp)\n",
    "\n",
    "print(f\"Training samples: {len(X_train)}\")\n",
    "print(f\"Validation samples: {len(X_val)}\")\n",
    "print(f\"Test samples: {len(X_test)}\")"
   ]
  },
  {
   "cell_type": "code",
   "execution_count": 5,
   "metadata": {},
   "outputs": [
    {
     "name": "stdout",
     "output_type": "stream",
     "text": [
      "Naive Bayes - Accuracy: 0.9298, F1-Score: 0.9272\n",
      "Logistic Regression - Accuracy: 0.9759, F1-Score: 0.9753\n"
     ]
    }
   ],
   "source": [
    "# Cell 5: Traditional ML Models (Baseline)\n",
    "# Vectorize text for traditional models\n",
    "tfidf = TfidfVectorizer(max_features=5000, stop_words='english')\n",
    "X_train_tfidf = tfidf.fit_transform(X_train)\n",
    "X_val_tfidf = tfidf.transform(X_val)\n",
    "X_test_tfidf = tfidf.transform(X_test)\n",
    "\n",
    "# Train Naive Bayes\n",
    "nb_model = MultinomialNB()\n",
    "nb_model.fit(X_train_tfidf, y_train)\n",
    "nb_pred = nb_model.predict(X_val_tfidf)\n",
    "nb_acc = accuracy_score(y_val, nb_pred)\n",
    "nb_f1 = f1_score(y_val, nb_pred)\n",
    "\n",
    "print(f\"Naive Bayes - Accuracy: {nb_acc:.4f}, F1-Score: {nb_f1:.4f}\")\n",
    "\n",
    "# Train Logistic Regression\n",
    "lr_model = LogisticRegression(max_iter=1000)\n",
    "lr_model.fit(X_train_tfidf, y_train)\n",
    "lr_pred = lr_model.predict(X_val_tfidf)\n",
    "lr_acc = accuracy_score(y_val, lr_pred)\n",
    "lr_f1 = f1_score(y_val, lr_pred)\n",
    "\n",
    "print(f\"Logistic Regression - Accuracy: {lr_acc:.4f}, F1-Score: {lr_f1:.4f}\")"
   ]
  },
  {
   "cell_type": "code",
   "execution_count": null,
   "metadata": {},
   "outputs": [],
   "source": [
    "# Cell 6: BERT Dataset Class\n",
    "class NewsDataset(Dataset):\n",
    "    def __init__(self, texts, labels, tokenizer, max_length=256):\n",
    "        self.texts = texts\n",
    "        self.labels = labels\n",
    "        self.tokenizer = tokenizer\n",
    "        self.max_length = max_length\n",
    "    \n",
    "    def __len__(self):\n",
    "        return len(self.texts)\n",
    "    \n",
    "    def __getitem__(self, idx):\n",
    "        text = str(self.texts[idx])\n",
    "        label = self.labels[idx]\n",
    "        \n",
    "        encoding = self.tokenizer(\n",
    "            text,\n",
    "            truncation=True,\n",
    "            padding='max_length',\n",
    "            max_length=self.max_length,\n",
    "            return_tensors='pt'\n",
    "        )\n",
    "        \n",
    "        return {\n",
    "            'input_ids': encoding['input_ids'].flatten(),\n",
    "            'attention_mask': encoding['attention_mask'].flatten(),\n",
    "            'label': torch.tensor(label, dtype=torch.long)\n",
    "        }"
   ]
  },
  {
   "cell_type": "code",
   "execution_count": null,
   "metadata": {},
   "outputs": [
    {
     "name": "stderr",
     "output_type": "stream",
     "text": [
      "Some weights of BertForSequenceClassification were not initialized from the model checkpoint at bert-base-uncased and are newly initialized: ['classifier.bias', 'classifier.weight']\n",
      "You should probably TRAIN this model on a down-stream task to be able to use it for predictions and inference.\n"
     ]
    }
   ],
   "source": [
    "# Cell 7: Initialize BERT Model and Tokenizer\n",
    "# Load pre-trained BERT\n",
    "model_name = 'bert-base-uncased'\n",
    "tokenizer = BertTokenizer.from_pretrained(model_name)\n",
    "model = BertForSequenceClassification.from_pretrained(model_name, num_labels=2)\n",
    "\n",
    "device = torch.device(\"cpu\")\n",
    "model = model.to(device)\n",
    "\n",
    "# Create data loaders\n",
    "batch_size = 8  \n",
    "train_dataset = NewsDataset(X_train, y_train, tokenizer, max_length=256) \n",
    "val_dataset = NewsDataset(X_val, y_val, tokenizer, max_length=256)\n",
    "test_dataset = NewsDataset(X_test, y_test, tokenizer, max_length=256)\n",
    "\n",
    "train_loader = DataLoader(train_dataset, batch_size=batch_size, shuffle=True)\n",
    "val_loader = DataLoader(val_dataset, batch_size=batch_size)\n",
    "test_loader = DataLoader(test_dataset, batch_size=batch_size)"
   ]
  },
  {
   "cell_type": "code",
   "execution_count": 8,
   "metadata": {},
   "outputs": [],
   "source": [
    "# Cell 8: Training Configuration\n",
    "# Optimizer and training parameters\n",
    "optimizer = AdamW(model.parameters(), lr=2e-5)\n",
    "epochs = 2  # Limited due to time constraint\n",
    "train_losses = []\n",
    "val_losses = []\n",
    "train_accuracies = []\n",
    "val_accuracies = []"
   ]
  },
  {
   "cell_type": "code",
   "execution_count": 9,
   "metadata": {},
   "outputs": [],
   "source": [
    "# Cell 9: Training Function\n",
    "def train_epoch(model, data_loader, optimizer, device):\n",
    "    model.train()\n",
    "    total_loss = 0\n",
    "    correct = 0\n",
    "    total = 0\n",
    "    \n",
    "    for batch in tqdm(data_loader, desc=\"Training\"):\n",
    "        optimizer.zero_grad()\n",
    "        \n",
    "        input_ids = batch['input_ids'].to(device)\n",
    "        attention_mask = batch['attention_mask'].to(device)\n",
    "        labels = batch['label'].to(device)\n",
    "        \n",
    "        outputs = model(input_ids=input_ids, attention_mask=attention_mask, labels=labels)\n",
    "        loss = outputs.loss\n",
    "        \n",
    "        loss.backward()\n",
    "        optimizer.step()\n",
    "        \n",
    "        total_loss += loss.item()\n",
    "        \n",
    "        _, predicted = torch.max(outputs.logits, 1)\n",
    "        total += labels.size(0)\n",
    "        correct += (predicted == labels).sum().item()\n",
    "    \n",
    "    avg_loss = total_loss / len(data_loader)\n",
    "    accuracy = correct / total\n",
    "    \n",
    "    return avg_loss, accuracy"
   ]
  },
  {
   "cell_type": "code",
   "execution_count": 10,
   "metadata": {},
   "outputs": [],
   "source": [
    "# Cell 10: Evaluation Function\n",
    "def evaluate(model, data_loader, device):\n",
    "    model.eval()\n",
    "    total_loss = 0\n",
    "    correct = 0\n",
    "    total = 0\n",
    "    all_predictions = []\n",
    "    all_labels = []\n",
    "    \n",
    "    with torch.no_grad():\n",
    "        for batch in tqdm(data_loader, desc=\"Evaluating\"):\n",
    "            input_ids = batch['input_ids'].to(device)\n",
    "            attention_mask = batch['attention_mask'].to(device)\n",
    "            labels = batch['label'].to(device)\n",
    "            \n",
    "            outputs = model(input_ids=input_ids, attention_mask=attention_mask, labels=labels)\n",
    "            loss = outputs.loss\n",
    "            \n",
    "            total_loss += loss.item()\n",
    "            \n",
    "            _, predicted = torch.max(outputs.logits, 1)\n",
    "            total += labels.size(0)\n",
    "            correct += (predicted == labels).sum().item()\n",
    "            \n",
    "            all_predictions.extend(predicted.cpu().numpy())\n",
    "            all_labels.extend(labels.cpu().numpy())\n",
    "    \n",
    "    avg_loss = total_loss / len(data_loader)\n",
    "    accuracy = correct / total\n",
    "    \n",
    "    return avg_loss, accuracy, all_predictions, all_labels"
   ]
  },
  {
   "cell_type": "code",
   "execution_count": 11,
   "metadata": {},
   "outputs": [
    {
     "name": "stdout",
     "output_type": "stream",
     "text": [
      "Starting BERT training...\n",
      "\n",
      "Epoch 1/2\n"
     ]
    },
    {
     "name": "stderr",
     "output_type": "stream",
     "text": [
      "Training: 100%|███████████████████████████████| 876/876 [31:59<00:00,  2.19s/it]\n",
      "Evaluating: 100%|█████████████████████████████| 187/187 [01:28<00:00,  2.12it/s]\n"
     ]
    },
    {
     "name": "stdout",
     "output_type": "stream",
     "text": [
      "Train Loss: 0.0291, Train Acc: 0.9914\n",
      "Val Loss: 0.0004, Val Acc: 1.0000\n",
      "\n",
      "Epoch 2/2\n"
     ]
    },
    {
     "name": "stderr",
     "output_type": "stream",
     "text": [
      "Training: 100%|███████████████████████████████| 876/876 [26:12<00:00,  1.79s/it]\n",
      "Evaluating: 100%|█████████████████████████████| 187/187 [01:29<00:00,  2.08it/s]"
     ]
    },
    {
     "name": "stdout",
     "output_type": "stream",
     "text": [
      "Train Loss: 0.0046, Train Acc: 0.9989\n",
      "Val Loss: 0.0037, Val Acc: 0.9993\n"
     ]
    },
    {
     "name": "stderr",
     "output_type": "stream",
     "text": [
      "\n"
     ]
    }
   ],
   "source": [
    "# Cell 11: Train BERT Model\n",
    "print(\"Starting BERT training...\")\n",
    "for epoch in range(epochs):\n",
    "    print(f\"\\nEpoch {epoch + 1}/{epochs}\")\n",
    "    \n",
    "    # Train\n",
    "    train_loss, train_acc = train_epoch(model, train_loader, optimizer, device)\n",
    "    train_losses.append(train_loss)\n",
    "    train_accuracies.append(train_acc)\n",
    "    \n",
    "    # Validate\n",
    "    val_loss, val_acc, _, _ = evaluate(model, val_loader, device)\n",
    "    val_losses.append(val_loss)\n",
    "    val_accuracies.append(val_acc)\n",
    "    \n",
    "    print(f\"Train Loss: {train_loss:.4f}, Train Acc: {train_acc:.4f}\")\n",
    "    print(f\"Val Loss: {val_loss:.4f}, Val Acc: {val_acc:.4f}\")"
   ]
  },
  {
   "cell_type": "code",
   "execution_count": 12,
   "metadata": {},
   "outputs": [
    {
     "data": {
      "image/png": "[encoded data removed]",
      "text/plain": [
       "<Figure size 1500x500 with 2 Axes>"
      ]
     },
     "metadata": {},
     "output_type": "display_data"
    }
   ],
   "source": [
    "# Cell 12: Plot Training Curves\n",
    "fig, (ax1, ax2) = plt.subplots(1, 2, figsize=(15, 5))\n",
    "\n",
    "# Loss curves\n",
    "ax1.plot(range(1, epochs+1), train_losses, label='Train Loss', marker='o')\n",
    "ax1.plot(range(1, epochs+1), val_losses, label='Validation Loss', marker='o')\n",
    "ax1.set_xlabel('Epoch')\n",
    "ax1.set_ylabel('Loss')\n",
    "ax1.set_title('Training and Validation Loss')\n",
    "ax1.legend()\n",
    "ax1.grid(True)\n",
    "\n",
    "# Accuracy curves\n",
    "ax2.plot(range(1, epochs+1), train_accuracies, label='Train Accuracy', marker='o')\n",
    "ax2.plot(range(1, epochs+1), val_accuracies, label='Validation Accuracy', marker='o')\n",
    "ax2.set_xlabel('Epoch')\n",
    "ax2.set_ylabel('Accuracy')\n",
    "ax2.set_title('Training and Validation Accuracy')\n",
    "ax2.legend()\n",
    "ax2.grid(True)\n",
    "\n",
    "plt.tight_layout()\n",
    "plt.show()"
   ]
  },
  {
   "cell_type": "code",
   "execution_count": 13,
   "metadata": {},
   "outputs": [
    {
     "name": "stdout",
     "output_type": "stream",
     "text": [
      "\n",
      "Evaluating on test set...\n"
     ]
    },
    {
     "name": "stderr",
     "output_type": "stream",
     "text": [
      "Evaluating: 100%|█████████████████████████████| 188/188 [01:27<00:00,  2.14it/s]"
     ]
    },
    {
     "name": "stdout",
     "output_type": "stream",
     "text": [
      "\n",
      "Test Results:\n",
      "Accuracy: 0.9967\n",
      "F1-Score: 0.9965\n"
     ]
    },
    {
     "name": "stderr",
     "output_type": "stream",
     "text": [
      "\n"
     ]
    }
   ],
   "source": [
    "# Cell 13: Final Evaluation on Test Set\n",
    "print(\"\\nEvaluating on test set...\")\n",
    "test_loss, test_acc, test_predictions, test_labels = evaluate(model, test_loader, device)\n",
    "test_f1 = f1_score(test_labels, test_predictions)\n",
    "\n",
    "print(f\"\\nTest Results:\")\n",
    "print(f\"Accuracy: {test_acc:.4f}\")\n",
    "print(f\"F1-Score: {test_f1:.4f}\")"
   ]
  },
  {
   "cell_type": "code",
   "execution_count": 14,
   "metadata": {},
   "outputs": [
    {
     "data": {
      "image/png": "[encoded data removed]",
      "text/plain": [
       "<Figure size 800x600 with 2 Axes>"
      ]
     },
     "metadata": {},
     "output_type": "display_data"
    }
   ],
   "source": [
    "# Cell 14: Confusion Matrix\n",
    "cm = confusion_matrix(test_labels, test_predictions)\n",
    "plt.figure(figsize=(8, 6))\n",
    "sns.heatmap(cm, annot=True, fmt='d', cmap='Blues', xticklabels=['Fake', 'Real'], yticklabels=['Fake', 'Real'])\n",
    "plt.title('Confusion Matrix - BERT Model')\n",
    "plt.ylabel('True Label')\n",
    "plt.xlabel('Predicted Label')\n",
    "plt.show()"
   ]
  },
  {
   "cell_type": "code",
   "execution_count": 15,
   "metadata": {},
   "outputs": [
    {
     "name": "stdout",
     "output_type": "stream",
     "text": [
      "\n",
      "=== Model Performance Comparison ===\n",
      "              Model  Accuracy  F1 Score\n",
      "        Naive Bayes  0.929813  0.927235\n",
      "Logistic Regression  0.975936  0.975309\n",
      "               BERT  0.996667  0.996540\n"
     ]
    }
   ],
   "source": [
    "# Cell 15: Model Comparison Table\n",
    "results_df = pd.DataFrame({\n",
    "    'Model': ['Naive Bayes', 'Logistic Regression', 'BERT'],\n",
    "    'Accuracy': [nb_acc, lr_acc, test_acc],\n",
    "    'F1 Score': [nb_f1, lr_f1, test_f1]\n",
    "})\n",
    "\n",
    "print(\"\\n=== Model Performance Comparison ===\")\n",
    "print(results_df.to_string(index=False))"
   ]
  },
  {
   "cell_type": "code",
   "execution_count": 16,
   "metadata": {},
   "outputs": [
    {
     "name": "stdout",
     "output_type": "stream",
     "text": [
      "\n",
      "=== 3 CORRECT PREDICTIONS ===\n",
      "\n",
      "Correct Prediction 1:\n",
      "Text: Japanese PM Abe says election won't distract him from tackling North Korea TOKYO (Reuters) - Japanese Prime Minister Shinzo Abe on Monday said his decision to call a snap election would not distract h...\n",
      "True Label: Real\n",
      "Predicted: Real\n",
      "\n",
      "Correct Prediction 2:\n",
      "Text: WATCH: 75-YR OLD TRUMP SUPPORTER Says She’d Rather Go To Jail Than Remove Trump Signs From Front Yard In a city that has more registered Democrats than Republicans, one has to wonder if the sizes of t...\n",
      "True Label: Fake\n",
      "Predicted: Fake\n",
      "\n",
      "Correct Prediction 3:\n",
      "Text:  Breaking: Dems Keep Progressive Bent In All-Important Leadership Election (DETAILS) Nancy Pelosi has been the leader of the House Democrats for a very long time, and she is well-respected. However, i...\n",
      "True Label: Fake\n",
      "Predicted: Fake\n",
      "\n",
      "=== 3 INCORRECT PREDICTIONS ===\n",
      "\n",
      "Incorrect Prediction 1:\n",
      "Text: White House unveils list of ex-lobbyists granted ethics waivers The White House on Wednesday disclosed a group of former lobbyists working in President Donald Trump’s administration who have been issu...\n",
      "True Label: Real\n",
      "Predicted: Fake\n",
      "\n",
      "Incorrect Prediction 2:\n",
      "Text: U.S. intelligence agencies feud with Republicans over Russian hacking Republican members of Congress are complaining that U.S. intelligence agencies are refusing to brief them widely on a classified C...\n",
      "True Label: Real\n",
      "Predicted: Fake\n",
      "\n",
      "Incorrect Prediction 3:\n",
      "Text:  Trump’s Approval Rating TANKS To The Lowest Level Of Any President’s First 60 Days Since taking the oath of office, alleged president Donald Trump s approval rating is at a new low, hitting 37%, acco...\n",
      "True Label: Fake\n",
      "Predicted: Real\n"
     ]
    }
   ],
   "source": [
    "# Cell 16: Sample Predictions (3 Correct and 3 Incorrect)\n",
    "def get_sample_predictions(model, tokenizer, texts, labels, device):\n",
    "    model.eval()\n",
    "    predictions = []\n",
    "    \n",
    "    for text in texts:\n",
    "        encoding = tokenizer(\n",
    "            text,\n",
    "            truncation=True,\n",
    "            padding='max_length',\n",
    "            max_length=512,\n",
    "            return_tensors='pt'\n",
    "        )\n",
    "        \n",
    "        input_ids = encoding['input_ids'].to(device)\n",
    "        attention_mask = encoding['attention_mask'].to(device)\n",
    "        \n",
    "        with torch.no_grad():\n",
    "            outputs = model(input_ids=input_ids, attention_mask=attention_mask)\n",
    "            _, predicted = torch.max(outputs.logits, 1)\n",
    "            predictions.append(predicted.item())\n",
    "    \n",
    "    return predictions\n",
    "\n",
    "# Find correct and incorrect predictions\n",
    "test_predictions_detailed = get_sample_predictions(model, tokenizer, X_test, y_test, device)\n",
    "\n",
    "correct_indices = []\n",
    "incorrect_indices = []\n",
    "\n",
    "for i in range(len(test_predictions_detailed)):\n",
    "    if test_predictions_detailed[i] == y_test[i]:\n",
    "        correct_indices.append(i)\n",
    "    else:\n",
    "        incorrect_indices.append(i)\n",
    "\n",
    "# Display 3 correct predictions\n",
    "print(\"\\n=== 3 CORRECT PREDICTIONS ===\")\n",
    "for i in range(min(3, len(correct_indices))):\n",
    "    idx = correct_indices[i]\n",
    "    print(f\"\\nCorrect Prediction {i+1}:\")\n",
    "    print(f\"Text: {X_test[idx][:200]}...\")\n",
    "    print(f\"True Label: {'Real' if y_test[idx] == 1 else 'Fake'}\")\n",
    "    print(f\"Predicted: {'Real' if test_predictions_detailed[idx] == 1 else 'Fake'}\")\n",
    "\n",
    "# Display 3 incorrect predictions\n",
    "print(\"\\n=== 3 INCORRECT PREDICTIONS ===\")\n",
    "for i in range(min(3, len(incorrect_indices))):\n",
    "    idx = incorrect_indices[i]\n",
    "    print(f\"\\nIncorrect Prediction {i+1}:\")\n",
    "    print(f\"Text: {X_test[idx][:200]}...\")\n",
    "    print(f\"True Label: {'Real' if y_test[idx] == 1 else 'Fake'}\")\n",
    "    print(f\"Predicted: {'Real' if test_predictions_detailed[idx] == 1 else 'Fake'}\")"
   ]
  },
  {
   "cell_type": "code",
   "execution_count": 17,
   "metadata": {},
   "outputs": [
    {
     "name": "stdout",
     "output_type": "stream",
     "text": [
      "\n",
      "Model saved successfully!\n"
     ]
    }
   ],
   "source": [
    "# Cell 17: Save Model\n",
    "# Save the trained model\n",
    "model.save_pretrained('./bert_fake_news_model')\n",
    "tokenizer.save_pretrained('./bert_fake_news_model')\n",
    "print(\"\\nModel saved successfully!\")"
   ]
  },
  {
   "cell_type": "code",
   "execution_count": 18,
   "metadata": {},
   "outputs": [
    {
     "name": "stdout",
     "output_type": "stream",
     "text": [
      "\n",
      "=== Predictions on New Examples ===\n",
      "\n",
      "Example 1:\n",
      "Text: Scientists discover new species of butterfly in Amazon rainforest that can change colors\n",
      "Prediction: Fake News\n",
      "\n",
      "Example 2:\n",
      "Text: Aliens have landed in New York City and are demanding to speak with world leaders\n",
      "Prediction: Fake News\n",
      "\n",
      "Example 3:\n",
      "Text: New study shows that regular exercise can improve mental health and reduce stress\n",
      "Prediction: Fake News\n"
     ]
    }
   ],
   "source": [
    "# Cell 18: Test with New Examples (Not from training/validation/test sets)\n",
    "# Create some new examples for demonstration\n",
    "new_examples = [\n",
    "    \"Scientists discover new species of butterfly in Amazon rainforest that can change colors\",\n",
    "    \"Aliens have landed in New York City and are demanding to speak with world leaders\",\n",
    "    \"New study shows that regular exercise can improve mental health and reduce stress\"\n",
    "]\n",
    "\n",
    "print(\"\\n=== Predictions on New Examples ===\")\n",
    "new_predictions = get_sample_predictions(model, tokenizer, new_examples, [0, 0, 0], device)\n",
    "\n",
    "for i, (text, pred) in enumerate(zip(new_examples, new_predictions)):\n",
    "    print(f\"\\nExample {i+1}:\")\n",
    "    print(f\"Text: {text}\")\n",
    "    print(f\"Prediction: {'Real News' if pred == 1 else 'Fake News'}\")"
   ]
  }
 ],
 "metadata": {
  "kernelspec": {
   "display_name": "Python 3 (ipykernel)",
   "language": "python",
   "name": "python3"
  },
  "language_info": {
   "codemirror_mode": {
    "name": "ipython",
    "version": 3
   },
   "file_extension": ".py",
   "mimetype": "text/x-python",
   "name": "python",
   "nbconvert_exporter": "python",
   "pygments_lexer": "ipython3",
   "version": "3.9.6"
  }
 },
 "nbformat": 4,
 "nbformat_minor": 4
}
